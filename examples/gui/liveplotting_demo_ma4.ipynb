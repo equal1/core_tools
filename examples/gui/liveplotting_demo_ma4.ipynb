{
 "cells": [
  {
   "cell_type": "code",
   "execution_count": 1,
   "metadata": {},
   "outputs": [
    {
     "name": "stderr",
     "output_type": "stream",
     "text": [
      "/tmp/ipykernel_2013864/2571828664.py:5: QCoDeSDeprecationWarning: The qcodes.data module is deprecated. Use \"qcodes_loop.data\" as an alternative.\n",
      "  from qcodes.data.io import DiskIO\n",
      "/tmp/ipykernel_2013864/2571828664.py:5: QCoDeSDeprecationWarning: The qcodes.data.io module is deprecated. Use \"qcodes_loop.data.io\" as an alternative.\n",
      "  from qcodes.data.io import DiskIO\n",
      "/tmp/ipykernel_2013864/2571828664.py:6: QCoDeSDeprecationWarning: The qcodes.data.data_set module is deprecated. Use \"qcodes_loop.data.data_set\" as an alternative.\n",
      "  from qcodes.data.data_set import DataSet\n",
      "/local/work/masker/core_tools/core_tools/GUI/keysight_videomaps/data_saver/qcodes.py:4: QCoDeSDeprecationWarning: The qcodes.measure module is deprecated. Use \"qcodes_loop.measure\" as an alternative.\n",
      "  from qcodes.measure import Measure\n"
     ]
    },
    {
     "name": "stdout",
     "output_type": "stream",
     "text": [
      "2024-02-19 12:48:42,530 - qm - INFO     - Starting session: 2972fc8c-c023-4f4d-a30a-253dd4b12cd1\n"
     ]
    }
   ],
   "source": [
    "from functools import partial\n",
    "import numpy as np\n",
    "import PyQt5\n",
    "import qcodes\n",
    "from qcodes.data.io import DiskIO\n",
    "from qcodes.data.data_set import DataSet\n",
    "\n",
    "\n",
    "from core_tools.GUI.keysight_videomaps.liveplotting import liveplotting, set_data_saver\n",
    "from core_tools.GUI.keysight_videomaps.data_saver.qcodes import QCodesDataSaver\n",
    "from core_tools.GUI.keysight_videomaps.data_getter.scan_generator_OPX import fake_digitizer\n",
    "from core_tools.GUI.qt_util import qt_init\n",
    "\n",
    "from pulse_lib.base_pulse import pulselib\n",
    "\n",
    "from core_tools.drivers.gates import gates as Gates\n",
    "from core_tools.drivers.hardware.hardware import hardware as Hardware\n",
    "\n",
    "from core_tools.GUI.virt_gate_matrix_qml.gui_controller import (\n",
    "    virt_gate_matrix_GUI as VirtGateMatrixGUI,\n",
    ")\n",
    "from core_tools.GUI.param_viewer.param_viewer_GUI_main import (\n",
    "    param_viewer as ParamViewerGUI,\n",
    ")\n",
    "\n",
    "# QDACII driver\n",
    "from qcodes_contrib_drivers.drivers.QDevil import QDAC2\n",
    "# OPX driver\n",
    "from qualang_tools.external_frameworks.qcodes.opx_driver import OPX\n",
    "\n",
    "station = qcodes.Station()\n",
    "\n",
    "# host: router IP address, port: 11+ last 3 dig of OPX\n",
    "#opx = OPX(config, name=\"OPX_alice\", host=\"opx-sc-001\", port='11253', close_other_machines=False)\n",
    "# opx = OPX(config, name=\"OPX_alice\", host=\"opx-sc-001\", port='11253', close_other_machines=True)\n",
    "# #Add the OPX instrument to the QCoDeS station\n",
    "# station.add_component(opx)\n"
   ]
  },
  {
   "cell_type": "code",
   "execution_count": 1,
   "metadata": {},
   "outputs": [
    {
     "name": "stdout",
     "output_type": "stream",
     "text": [
      "2024-02-19 14:54:00,211 - qm - INFO     - Starting session: f08c6911-9d16-4e8a-bef2-b1b5bbda266a\n",
      "2024-02-19 14:54:01,349 - qm - INFO     - Performing health check\n",
      "2024-02-19 14:54:01,354 - qm - INFO     - Health check passed\n",
      "qlst=['qm-1708382845521']\n"
     ]
    }
   ],
   "source": [
    "#print(f'python version = {sys.version}')\n",
    "from qm import QuantumMachinesManager\n",
    "qmm = QuantumMachinesManager(host='opx-sc-001', cluster_name=\"Cluster_1\") # IP address of router\n",
    "qlst = qmm.list_open_quantum_machines()\n",
    "print(f'{qlst=}')\n",
    "for q in qlst:\n",
    "    qm = qmm.get_qm(q)\n",
    "    qm.close()\n"
   ]
  },
  {
   "cell_type": "code",
   "execution_count": 5,
   "metadata": {},
   "outputs": [
    {
     "name": "stdout",
     "output_type": "stream",
     "text": [
      "[[ 1.   0.   0.  -0.5 -0.5]\n",
      " [ 0.   1.   0.  -0.5 -0.5]\n",
      " [ 0.   0.   1.  -0.5 -0.5]\n",
      " [ 0.   0.   0.   1.  -1. ]\n",
      " [ 0.   0.   0.   0.5  0.5]]\n"
     ]
    },
    {
     "data": {
      "text/plain": [
       "array([[1023. , 1025. ],\n",
       "       [1045. , 1047. ],\n",
       "       [1067. , 1069. ],\n",
       "       [1005. , 1006.5],\n",
       "       [ 995. ,  995.5]])"
      ]
     },
     "execution_count": 5,
     "metadata": {},
     "output_type": "execute_result"
    }
   ],
   "source": [
    "import numpy as np\n",
    "\n",
    "AWG_VirtGateMatrix = [\n",
    "    # Vgs13    Vgs11    Vgs09    Vds    Vcm]\n",
    "    [  1,        0,       0,      0,      1],   # HG13b\n",
    "    [  0,        1,       0,      0,      1],   # HG11b\n",
    "    [  0,        0,       1,      0,      1],   # HG09b\n",
    "    [  0,        0,       0,    +0.5,     1],   # HG07b\n",
    "    [  0,        0,       0,    -0.5,     1],   # HG12b\n",
    "] \n",
    "m = AWG_VirtGateMatrix\n",
    "minv = np.linalg.inv(AWG_VirtGateMatrix)\n",
    "print(minv)\n",
    "np.matmul(m, [[23,24],[45,46],[67,68],[10,11],[1000,1001]])"
   ]
  },
  {
   "cell_type": "code",
   "execution_count": 10,
   "metadata": {},
   "outputs": [
    {
     "data": {
      "text/plain": [
       "array([ 1. ,  0. ,  0. ,  0. ,  1. ,  0. ,  1. ,  0. ,  0. ,  1. ,  0. ,\n",
       "        0. ,  1. ,  0. ,  1. ,  0. ,  0. ,  0. ,  0.5,  1. ,  0. ,  0. ,\n",
       "        0. , -0.5,  1. ])"
      ]
     },
     "execution_count": 10,
     "metadata": {},
     "output_type": "execute_result"
    }
   ],
   "source": [
    "np.array(m).reshape(25)"
   ]
  },
  {
   "cell_type": "code",
   "execution_count": 5,
   "metadata": {},
   "outputs": [
    {
     "data": {
      "text/plain": [
       "6.123"
      ]
     },
     "execution_count": 5,
     "metadata": {},
     "output_type": "execute_result"
    }
   ],
   "source": [
    "x = ((1,2,3), (4,5,6))\n",
    "y = 0.123 + x[1][2]\n",
    "y"
   ]
  },
  {
   "cell_type": "code",
   "execution_count": 13,
   "metadata": {},
   "outputs": [
    {
     "ename": "ValueError",
     "evalue": "tuple.index(x): x not in tuple",
     "output_type": "error",
     "traceback": [
      "\u001b[0;31m---------------------------------------------------------------------------\u001b[0m",
      "\u001b[0;31mValueError\u001b[0m                                Traceback (most recent call last)",
      "Cell \u001b[0;32mIn[13], line 3\u001b[0m\n\u001b[1;32m      1\u001b[0m x \u001b[38;5;241m=\u001b[39m (\u001b[38;5;124m'\u001b[39m\u001b[38;5;124ma\u001b[39m\u001b[38;5;124m'\u001b[39m,\u001b[38;5;124m'\u001b[39m\u001b[38;5;124mb\u001b[39m\u001b[38;5;124m'\u001b[39m,\u001b[38;5;124m'\u001b[39m\u001b[38;5;124mc\u001b[39m\u001b[38;5;124m'\u001b[39m)\n\u001b[0;32m----> 3\u001b[0m \u001b[43mx\u001b[49m\u001b[38;5;241;43m.\u001b[39;49m\u001b[43mindex\u001b[49m\u001b[43m(\u001b[49m\u001b[38;5;124;43m'\u001b[39;49m\u001b[38;5;124;43md\u001b[39;49m\u001b[38;5;124;43m'\u001b[39;49m\u001b[43m)\u001b[49m\n",
      "\u001b[0;31mValueError\u001b[0m: tuple.index(x): x not in tuple"
     ]
    }
   ],
   "source": [
    "x = ('a','b','c')\n",
    "\n",
    "x.index('d')"
   ]
  },
  {
   "cell_type": "code",
   "execution_count": 15,
   "metadata": {},
   "outputs": [
    {
     "data": {
      "text/plain": [
       "array([-10.3,  -8.9,  -7.5,  -6.1,  -4.7,  -3.3,  -1.9,  -0.5,   0.9,\n",
       "         2.3,   3.7])"
      ]
     },
     "execution_count": 15,
     "metadata": {},
     "output_type": "execute_result"
    }
   ],
   "source": [
    "import numpy as np\n",
    "np.linspace(-10.3, +3.7, 11)"
   ]
  },
  {
   "cell_type": "code",
   "execution_count": 17,
   "metadata": {},
   "outputs": [
    {
     "ename": "ValueError",
     "evalue": "operands could not be broadcast together with shapes (2,) (4,) ",
     "output_type": "error",
     "traceback": [
      "\u001b[0;31m---------------------------------------------------------------------------\u001b[0m",
      "\u001b[0;31mValueError\u001b[0m                                Traceback (most recent call last)",
      "Cell \u001b[0;32mIn[17], line 1\u001b[0m\n\u001b[0;32m----> 1\u001b[0m \u001b[43mnp\u001b[49m\u001b[38;5;241;43m.\u001b[39;49m\u001b[43misclose\u001b[49m\u001b[43m(\u001b[49m\u001b[43m \u001b[49m\u001b[43m[\u001b[49m\u001b[38;5;241;43m0.1\u001b[39;49m\u001b[43m,\u001b[49m\u001b[38;5;241;43m0.2\u001b[39;49m\u001b[43m]\u001b[49m\u001b[43m,\u001b[49m\u001b[43m \u001b[49m\u001b[43m[\u001b[49m\u001b[38;5;241;43m0.1\u001b[39;49m\u001b[43m,\u001b[49m\u001b[38;5;241;43m0.2\u001b[39;49m\u001b[43m,\u001b[49m\u001b[38;5;241;43m0\u001b[39;49m\u001b[43m,\u001b[49m\u001b[38;5;241;43m3\u001b[39;49m\u001b[43m]\u001b[49m\u001b[43m)\u001b[49m\u001b[38;5;241m.\u001b[39mall()\n",
      "File \u001b[0;32m/local/work/masker/miniforge3/envs/eq1x-scripts-opx/lib/python3.10/site-packages/numpy/core/numeric.py:2351\u001b[0m, in \u001b[0;36misclose\u001b[0;34m(a, b, rtol, atol, equal_nan)\u001b[0m\n\u001b[1;32m   2349\u001b[0m yfin \u001b[38;5;241m=\u001b[39m isfinite(y)\n\u001b[1;32m   2350\u001b[0m \u001b[38;5;28;01mif\u001b[39;00m \u001b[38;5;28mall\u001b[39m(xfin) \u001b[38;5;129;01mand\u001b[39;00m \u001b[38;5;28mall\u001b[39m(yfin):\n\u001b[0;32m-> 2351\u001b[0m     \u001b[38;5;28;01mreturn\u001b[39;00m \u001b[43mwithin_tol\u001b[49m\u001b[43m(\u001b[49m\u001b[43mx\u001b[49m\u001b[43m,\u001b[49m\u001b[43m \u001b[49m\u001b[43my\u001b[49m\u001b[43m,\u001b[49m\u001b[43m \u001b[49m\u001b[43matol\u001b[49m\u001b[43m,\u001b[49m\u001b[43m \u001b[49m\u001b[43mrtol\u001b[49m\u001b[43m)\u001b[49m\n\u001b[1;32m   2352\u001b[0m \u001b[38;5;28;01melse\u001b[39;00m:\n\u001b[1;32m   2353\u001b[0m     finite \u001b[38;5;241m=\u001b[39m xfin \u001b[38;5;241m&\u001b[39m yfin\n",
      "File \u001b[0;32m/local/work/masker/miniforge3/envs/eq1x-scripts-opx/lib/python3.10/site-packages/numpy/core/numeric.py:2332\u001b[0m, in \u001b[0;36misclose.<locals>.within_tol\u001b[0;34m(x, y, atol, rtol)\u001b[0m\n\u001b[1;32m   2330\u001b[0m \u001b[38;5;28;01mdef\u001b[39;00m \u001b[38;5;21mwithin_tol\u001b[39m(x, y, atol, rtol):\n\u001b[1;32m   2331\u001b[0m     \u001b[38;5;28;01mwith\u001b[39;00m errstate(invalid\u001b[38;5;241m=\u001b[39m\u001b[38;5;124m'\u001b[39m\u001b[38;5;124mignore\u001b[39m\u001b[38;5;124m'\u001b[39m), _no_nep50_warning():\n\u001b[0;32m-> 2332\u001b[0m         \u001b[38;5;28;01mreturn\u001b[39;00m less_equal(\u001b[38;5;28mabs\u001b[39m(\u001b[43mx\u001b[49m\u001b[38;5;241;43m-\u001b[39;49m\u001b[43my\u001b[49m), atol \u001b[38;5;241m+\u001b[39m rtol \u001b[38;5;241m*\u001b[39m \u001b[38;5;28mabs\u001b[39m(y))\n",
      "\u001b[0;31mValueError\u001b[0m: operands could not be broadcast together with shapes (2,) (4,) "
     ]
    }
   ],
   "source": [
    "np.isclose( [0.1,0.2], [0.1,0.2,0,3]).all()"
   ]
  },
  {
   "cell_type": "code",
   "execution_count": 21,
   "metadata": {},
   "outputs": [
    {
     "data": {
      "text/plain": [
       "array([1, 2, 3, 4, 5, 6])"
      ]
     },
     "execution_count": 21,
     "metadata": {},
     "output_type": "execute_result"
    }
   ],
   "source": [
    "lst = np.array(((1,2,3),(4,5,6)))\n",
    "lst.reshape(6)"
   ]
  },
  {
   "cell_type": "code",
   "execution_count": 3,
   "metadata": {},
   "outputs": [
    {
     "data": {
      "text/plain": [
       "3"
      ]
     },
     "execution_count": 3,
     "metadata": {},
     "output_type": "execute_result"
    }
   ],
   "source": [
    "import numpy as np\n",
    "lst = [1,2,3]\n",
    "np.max(lst)"
   ]
  },
  {
   "cell_type": "code",
   "execution_count": 5,
   "metadata": {},
   "outputs": [
    {
     "name": "stdout",
     "output_type": "stream",
     "text": [
      "Connected to: QDevil QDAC-II (serial:146, firmware:7-0.17.5) in 0.21s\n"
     ]
    }
   ],
   "source": [
    "\n",
    "qdac2_addr = 'qdac-sc-001'\n",
    "qdac2 = QDAC2.QDac2('QDAC', visalib='@py', address=f'TCPIP::{qdac2_addr}::5025::SOCKET')\n",
    "# Add the QDAC2 instrument to the QCoDeS station\n",
    "#station.add_component(qdac2)\n"
   ]
  },
  {
   "cell_type": "code",
   "execution_count": 87,
   "metadata": {},
   "outputs": [
    {
     "data": {
      "text/plain": [
       "'HIGH'"
      ]
     },
     "execution_count": 87,
     "metadata": {},
     "output_type": "execute_result"
    }
   ],
   "source": [
    "c = qdac2.channel(1)\n",
    "c.dc_constant_V()\n",
    "c.read_current_A()\n",
    "c.current_last_A()\n",
    "c.measurement_range()\n",
    "c.dc_mode()\n",
    "c.output_range()"
   ]
  },
  {
   "cell_type": "code",
   "execution_count": 43,
   "metadata": {},
   "outputs": [],
   "source": [
    "for ch_num in range(1,25):\n",
    "    chn = qdac2.channel(ch_num)\n",
    "    chn.output_range('low')\n",
    "    chn.measurement_range('low')\n",
    "    chn.output_filter('dc')"
   ]
  },
  {
   "cell_type": "code",
   "execution_count": 34,
   "metadata": {},
   "outputs": [],
   "source": [
    "for ch_num in range(1,25):\n",
    "    #ch_num = 1\n",
    "    chn = qdac2.channel(ch_num)\n",
    "    chn.dc_constant_V(-1.3)"
   ]
  },
  {
   "cell_type": "code",
   "execution_count": 46,
   "metadata": {},
   "outputs": [
    {
     "name": "stdout",
     "output_type": "stream",
     "text": [
      "CH01   mode=FIX   outrng=LOW   measrng='LOW' outfltr=DC         -1.300V           0.190nA\n",
      "CH02   mode=FIX   outrng=LOW   measrng='LOW' outfltr=DC         -1.300V          -1.017nA\n",
      "CH03   mode=FIX   outrng=LOW   measrng='LOW' outfltr=DC         -1.300V          -1.196nA\n",
      "CH04   mode=FIX   outrng=LOW   measrng='LOW' outfltr=DC         -1.300V          -2.892nA\n",
      "CH05   mode=FIX   outrng=LOW   measrng='LOW' outfltr=DC         -1.300V          -2.552nA\n",
      "CH06   mode=FIX   outrng=LOW   measrng='LOW' outfltr=DC         -1.300V           0.410nA\n",
      "CH07   mode=FIX   outrng=LOW   measrng='LOW' outfltr=DC         -1.300V          -0.495nA\n",
      "CH08   mode=FIX   outrng=LOW   measrng='LOW' outfltr=DC         -1.300V          -2.012nA\n",
      "CH09   mode=FIX   outrng=LOW   measrng='LOW' outfltr=DC         -1.300V          -0.951nA\n",
      "CH10   mode=FIX   outrng=LOW   measrng='LOW' outfltr=DC         -1.300V         -18.041nA\n",
      "CH11   mode=FIX   outrng=LOW   measrng='LOW' outfltr=DC         -1.300V           0.479nA\n",
      "CH12   mode=FIX   outrng=LOW   measrng='LOW' outfltr=DC         -1.300V          -3.276nA\n",
      "CH13   mode=FIX   outrng=LOW   measrng='LOW' outfltr=DC         -1.300V           0.289nA\n",
      "CH14   mode=FIX   outrng=LOW   measrng='LOW' outfltr=DC         -1.300V           0.940nA\n",
      "CH15   mode=FIX   outrng=LOW   measrng='LOW' outfltr=DC         -1.300V          -0.503nA\n",
      "CH16   mode=FIX   outrng=LOW   measrng='LOW' outfltr=DC         -1.300V           0.368nA\n",
      "CH17   mode=FIX   outrng=LOW   measrng='LOW' outfltr=DC         -1.300V          -0.174nA\n",
      "CH18   mode=FIX   outrng=LOW   measrng='LOW' outfltr=DC         -1.300V           1.011nA\n",
      "CH19   mode=FIX   outrng=LOW   measrng='LOW' outfltr=DC         -1.300V          -0.829nA\n",
      "CH20   mode=FIX   outrng=LOW   measrng='LOW' outfltr=DC         -1.300V          -4.785nA\n",
      "CH21   mode=FIX   outrng=LOW   measrng='LOW' outfltr=DC         -1.300V           1.338nA\n",
      "CH22   mode=FIX   outrng=LOW   measrng='LOW' outfltr=DC         -1.300V           0.423nA\n",
      "CH23   mode=FIX   outrng=LOW   measrng='LOW' outfltr=DC         -1.300V           0.496nA\n",
      "CH24   mode=FIX   outrng=LOW   measrng='LOW' outfltr=DC         -1.300V           0.106nA\n"
     ]
    }
   ],
   "source": [
    "for ch_num in range(1,25):\n",
    "    chn = qdac2.channel(ch_num)\n",
    "    v = chn.dc_constant_V()\n",
    "    i = chn.read_current_A()[0]\n",
    "    measrng = chn.measurement_range()\n",
    "    mode=chn.dc_mode()\n",
    "    outrng=chn.output_range()\n",
    "    outfltr=chn.output_filter()\n",
    "    print( f'CH{ch_num:02}   {mode=:5} {outrng=:5} {measrng=} {outfltr=:6} {v:10.3f}V {i*1e9:15,.3f}nA') \n"
   ]
  },
  {
   "cell_type": "code",
   "execution_count": 31,
   "metadata": {},
   "outputs": [],
   "source": [
    "qdac2.reset()"
   ]
  },
  {
   "cell_type": "code",
   "execution_count": null,
   "metadata": {},
   "outputs": [],
   "source": [
    "# for i in range(1, 1+24):\n",
    "\n",
    "i = 10\n",
    "qdac2.add_parameter(\n",
    "            f'dac{i}',\n",
    "            qcodes.DelegateParameter,\n",
    "            source=qdac2.channel(i).dc_constant_V,\n",
    "            label=f'dac{i}',\n",
    "            unit='V',\n",
    "            scale=0.001\n",
    "        )\n"
   ]
  },
  {
   "cell_type": "code",
   "execution_count": null,
   "metadata": {},
   "outputs": [],
   "source": [
    "\n",
    "\n",
    "\n",
    "\n",
    "\n",
    "qcodes.DelegateParameter('dac10',  qdac2.ch10.dc_constant_V, instrument=qdac2 )"
   ]
  },
  {
   "cell_type": "code",
   "execution_count": null,
   "metadata": {},
   "outputs": [],
   "source": [
    "qdac2.ch15.dc_constant_V.set(0.1)\n",
    "qdac2.ch15.dc_constant_V()"
   ]
  },
  {
   "cell_type": "code",
   "execution_count": null,
   "metadata": {},
   "outputs": [],
   "source": [
    "qdac2.dac10.set(1000)\n"
   ]
  },
  {
   "cell_type": "code",
   "execution_count": null,
   "metadata": {},
   "outputs": [],
   "source": [
    "\n",
    "qdac2.dac10()"
   ]
  },
  {
   "cell_type": "code",
   "execution_count": 6,
   "metadata": {},
   "outputs": [
    {
     "data": {
      "text/plain": [
       "9.7999811"
      ]
     },
     "execution_count": 6,
     "metadata": {},
     "output_type": "execute_result"
    }
   ],
   "source": [
    "qdac2.dac10()"
   ]
  },
  {
   "cell_type": "code",
   "execution_count": 3,
   "metadata": {},
   "outputs": [],
   "source": [
    "hw = Hardware(\"hardware\")\n"
   ]
  },
  {
   "cell_type": "code",
   "execution_count": 4,
   "metadata": {},
   "outputs": [],
   "source": [
    "\n",
    "hw.dac_gate_map = {\n",
    "    \"VGS09_15\": (0, 15),        \n",
    "}\n"
   ]
  },
  {
   "cell_type": "code",
   "execution_count": null,
   "metadata": {},
   "outputs": [],
   "source": [
    "\n",
    "\n",
    "# For each of the gates create a DelegateParameter to the underlying qdac2 channel function\n",
    "for gat, gmap in hw.dac_gate_map.items():\n",
    "    cnum = gmap[1]\n",
    "    dac_n = f'dac{cnum:d}'\n",
    "    fstr = f'ch{cnum:d}'\n",
    "    func = getattr(qdac2, fstr)\n",
    "    func = getattr(func, 'dc_constant_V' )\n",
    "    qcodes.DelegateParameter(dac_n,  func )\n",
    "\n",
    "#p = qc.Instrument._all_instruments\n",
    "pppp = qcodes.Instrument\n",
    "print(pppp)\n",
    "\n"
   ]
  },
  {
   "cell_type": "code",
   "execution_count": 3,
   "metadata": {},
   "outputs": [
    {
     "name": "stdout",
     "output_type": "stream",
     "text": [
      "<class 'qcodes.instrument.instrument.Instrument'>\n"
     ]
    }
   ],
   "source": [
    "pppp = qcodes.Instrument\n",
    "print(pppp)"
   ]
  },
  {
   "cell_type": "code",
   "execution_count": null,
   "metadata": {},
   "outputs": [],
   "source": [
    "qcodes.DelegateParameter('dac15',  gates. )"
   ]
  },
  {
   "cell_type": "code",
   "execution_count": 5,
   "metadata": {},
   "outputs": [],
   "source": [
    "gates = Gates(\"gates\", hardware=hw, dac_sources=[qdac2], dc_gain={})"
   ]
  },
  {
   "cell_type": "code",
   "execution_count": 9,
   "metadata": {},
   "outputs": [
    {
     "ename": "KeyError",
     "evalue": "('dac15', 'setting gates_VGS09_15 to 0.11')",
     "output_type": "error",
     "traceback": [
      "\u001b[0;31m---------------------------------------------------------------------------\u001b[0m",
      "\u001b[0;31mKeyError\u001b[0m                                  Traceback (most recent call last)",
      "Cell \u001b[0;32mIn[9], line 1\u001b[0m\n\u001b[0;32m----> 1\u001b[0m \u001b[43mgates\u001b[49m\u001b[38;5;241;43m.\u001b[39;49m\u001b[43mVGS09_15\u001b[49m\u001b[38;5;241;43m.\u001b[39;49m\u001b[43mset\u001b[49m\u001b[43m(\u001b[49m\u001b[38;5;241;43m0.11\u001b[39;49m\u001b[43m)\u001b[49m\n",
      "File \u001b[0;32m/local/work/masker/miniforge3/envs/eq1x-scripts-opx/lib/python3.10/site-packages/qcodes/parameters/parameter_base.py:638\u001b[0m, in \u001b[0;36mParameterBase._wrap_set.<locals>.set_wrapper\u001b[0;34m(value, **kwargs)\u001b[0m\n\u001b[1;32m    636\u001b[0m \u001b[38;5;28;01mexcept\u001b[39;00m \u001b[38;5;167;01mException\u001b[39;00m \u001b[38;5;28;01mas\u001b[39;00m e:\n\u001b[1;32m    637\u001b[0m     e\u001b[38;5;241m.\u001b[39margs \u001b[38;5;241m=\u001b[39m e\u001b[38;5;241m.\u001b[39margs \u001b[38;5;241m+\u001b[39m (\u001b[38;5;124mf\u001b[39m\u001b[38;5;124m\"\u001b[39m\u001b[38;5;124msetting \u001b[39m\u001b[38;5;132;01m{\u001b[39;00m\u001b[38;5;28mself\u001b[39m\u001b[38;5;132;01m}\u001b[39;00m\u001b[38;5;124m to \u001b[39m\u001b[38;5;132;01m{\u001b[39;00mvalue\u001b[38;5;132;01m}\u001b[39;00m\u001b[38;5;124m\"\u001b[39m,)\n\u001b[0;32m--> 638\u001b[0m     \u001b[38;5;28;01mraise\u001b[39;00m e\n",
      "File \u001b[0;32m/local/work/masker/miniforge3/envs/eq1x-scripts-opx/lib/python3.10/site-packages/qcodes/parameters/parameter_base.py:623\u001b[0m, in \u001b[0;36mParameterBase._wrap_set.<locals>.set_wrapper\u001b[0;34m(value, **kwargs)\u001b[0m\n\u001b[1;32m    620\u001b[0m \u001b[38;5;66;03m# Start timer to measure execution time of set_function\u001b[39;00m\n\u001b[1;32m    621\u001b[0m t0 \u001b[38;5;241m=\u001b[39m time\u001b[38;5;241m.\u001b[39mperf_counter()\n\u001b[0;32m--> 623\u001b[0m \u001b[43mset_function\u001b[49m\u001b[43m(\u001b[49m\u001b[43mraw_val_step\u001b[49m\u001b[43m,\u001b[49m\u001b[43m \u001b[49m\u001b[38;5;241;43m*\u001b[39;49m\u001b[38;5;241;43m*\u001b[39;49m\u001b[43mkwargs\u001b[49m\u001b[43m)\u001b[49m\n\u001b[1;32m    625\u001b[0m \u001b[38;5;66;03m# Update last set time (used for calculating delays)\u001b[39;00m\n\u001b[1;32m    626\u001b[0m \u001b[38;5;28mself\u001b[39m\u001b[38;5;241m.\u001b[39m_t_last_set \u001b[38;5;241m=\u001b[39m time\u001b[38;5;241m.\u001b[39mperf_counter()\n",
      "File \u001b[0;32m/local/work/masker/miniforge3/envs/eq1x-scripts-opx/lib/python3.10/site-packages/qcodes/parameters/command.py:209\u001b[0m, in \u001b[0;36mCommand.__call__\u001b[0;34m(self, *args)\u001b[0m\n\u001b[1;32m    207\u001b[0m \u001b[38;5;28;01mif\u001b[39;00m \u001b[38;5;28mlen\u001b[39m(args) \u001b[38;5;241m!=\u001b[39m \u001b[38;5;28mself\u001b[39m\u001b[38;5;241m.\u001b[39marg_count:\n\u001b[1;32m    208\u001b[0m     \u001b[38;5;28;01mraise\u001b[39;00m \u001b[38;5;167;01mTypeError\u001b[39;00m(\u001b[38;5;124mf\u001b[39m\u001b[38;5;124m\"\u001b[39m\u001b[38;5;124mcommand takes exactly \u001b[39m\u001b[38;5;132;01m{\u001b[39;00m\u001b[38;5;28mself\u001b[39m\u001b[38;5;241m.\u001b[39marg_count\u001b[38;5;132;01m}\u001b[39;00m\u001b[38;5;124m args\u001b[39m\u001b[38;5;124m\"\u001b[39m)\n\u001b[0;32m--> 209\u001b[0m \u001b[38;5;28;01mreturn\u001b[39;00m \u001b[38;5;28;43mself\u001b[39;49m\u001b[38;5;241;43m.\u001b[39;49m\u001b[43mexec_function\u001b[49m\u001b[43m(\u001b[49m\u001b[38;5;241;43m*\u001b[39;49m\u001b[43margs\u001b[49m\u001b[43m)\u001b[49m\n",
      "File \u001b[0;32m/local/work/masker/core_tools/core_tools/drivers/gates.py:102\u001b[0m, in \u001b[0;36mgates._set_voltage\u001b[0;34m(self, gate_name, voltage)\u001b[0m\n\u001b[1;32m    100\u001b[0m     dac_voltage \u001b[38;5;241m=\u001b[39m voltage\n\u001b[1;32m    101\u001b[0m     logger\u001b[38;5;241m.\u001b[39minfo(\u001b[38;5;124mf\u001b[39m\u001b[38;5;124m'\u001b[39m\u001b[38;5;124mset \u001b[39m\u001b[38;5;132;01m{\u001b[39;00mgate_name\u001b[38;5;132;01m}\u001b[39;00m\u001b[38;5;124m \u001b[39m\u001b[38;5;132;01m{\u001b[39;00mvoltage\u001b[38;5;132;01m:\u001b[39;00m\u001b[38;5;124m.1f\u001b[39m\u001b[38;5;132;01m}\u001b[39;00m\u001b[38;5;124m mV\u001b[39m\u001b[38;5;124m'\u001b[39m)\n\u001b[0;32m--> 102\u001b[0m \u001b[38;5;28;43mself\u001b[39;49m\u001b[38;5;241;43m.\u001b[39;49m\u001b[43mdac_sources\u001b[49m\u001b[43m[\u001b[49m\u001b[43mdac_location\u001b[49m\u001b[43m[\u001b[49m\u001b[38;5;241;43m0\u001b[39;49m\u001b[43m]\u001b[49m\u001b[43m]\u001b[49m\u001b[38;5;241;43m.\u001b[39;49m\u001b[43mset\u001b[49m\u001b[43m(\u001b[49m\u001b[38;5;124;43mf\u001b[39;49m\u001b[38;5;124;43m'\u001b[39;49m\u001b[38;5;124;43mdac\u001b[39;49m\u001b[38;5;132;43;01m{\u001b[39;49;00m\u001b[38;5;28;43mint\u001b[39;49m\u001b[43m(\u001b[49m\u001b[43mdac_location\u001b[49m\u001b[43m[\u001b[49m\u001b[38;5;241;43m1\u001b[39;49m\u001b[43m]\u001b[49m\u001b[43m)\u001b[49m\u001b[38;5;132;43;01m}\u001b[39;49;00m\u001b[38;5;124;43m'\u001b[39;49m\u001b[43m,\u001b[49m\u001b[43m \u001b[49m\u001b[43mdac_voltage\u001b[49m\u001b[43m)\u001b[49m\n",
      "File \u001b[0;32m/local/work/masker/miniforge3/envs/eq1x-scripts-opx/lib/python3.10/site-packages/qcodes/instrument/instrument_base.py:598\u001b[0m, in \u001b[0;36mInstrumentBase.set\u001b[0;34m(self, param_name, value)\u001b[0m\n\u001b[1;32m    590\u001b[0m \u001b[38;5;28;01mdef\u001b[39;00m \u001b[38;5;21mset\u001b[39m(\u001b[38;5;28mself\u001b[39m, param_name: \u001b[38;5;28mstr\u001b[39m, value: Any) \u001b[38;5;241m-\u001b[39m\u001b[38;5;241m>\u001b[39m \u001b[38;5;28;01mNone\u001b[39;00m:\n\u001b[1;32m    591\u001b[0m \u001b[38;5;250m    \u001b[39m\u001b[38;5;124;03m\"\"\"\u001b[39;00m\n\u001b[1;32m    592\u001b[0m \u001b[38;5;124;03m    Shortcut for setting a parameter from its name and new value.\u001b[39;00m\n\u001b[1;32m    593\u001b[0m \n\u001b[0;32m   (...)\u001b[0m\n\u001b[1;32m    596\u001b[0m \u001b[38;5;124;03m        value: The new value to set.\u001b[39;00m\n\u001b[1;32m    597\u001b[0m \u001b[38;5;124;03m    \"\"\"\u001b[39;00m\n\u001b[0;32m--> 598\u001b[0m     \u001b[38;5;28;43mself\u001b[39;49m\u001b[38;5;241;43m.\u001b[39;49m\u001b[43mparameters\u001b[49m\u001b[43m[\u001b[49m\u001b[43mparam_name\u001b[49m\u001b[43m]\u001b[49m\u001b[38;5;241m.\u001b[39mset(value)\n",
      "\u001b[0;31mKeyError\u001b[0m: ('dac15', 'setting gates_VGS09_15 to 0.11')"
     ]
    }
   ],
   "source": [
    "gates.VGS09_15.set(0.11)"
   ]
  }
 ],
 "metadata": {
  "kernelspec": {
   "display_name": "eq1x-scripts-opx",
   "language": "python",
   "name": "python3"
  },
  "language_info": {
   "codemirror_mode": {
    "name": "ipython",
    "version": 3
   },
   "file_extension": ".py",
   "mimetype": "text/x-python",
   "name": "python",
   "nbconvert_exporter": "python",
   "pygments_lexer": "ipython3",
   "version": "3.10.13"
  }
 },
 "nbformat": 4,
 "nbformat_minor": 2
}
